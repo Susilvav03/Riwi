{
  "nbformat": 4,
  "nbformat_minor": 0,
  "metadata": {
    "colab": {
      "provenance": [],
      "toc_visible": true,
      "collapsed_sections": [
        "w0t0Fl-Hyo_H"
      ],
      "include_colab_link": true
    },
    "kernelspec": {
      "name": "python3",
      "display_name": "Python 3"
    }
  },
  "cells": [
    {
      "cell_type": "markdown",
      "metadata": {
        "id": "view-in-github",
        "colab_type": "text"
      },
      "source": [
        "<a href=\"https://colab.research.google.com/github/Susilvav03/Riwi/blob/main/funcionesPython.ipynb\" target=\"_parent\"><img src=\"https://colab.research.google.com/assets/colab-badge.svg\" alt=\"Open In Colab\"/></a>"
      ]
    },
    {
      "cell_type": "markdown",
      "metadata": {
        "id": "w0t0Fl-Hyo_H"
      },
      "source": [
        "# Instalación del Tutor Magic\n",
        "El Tutor Magic le permitirá realizar pruebas de escritorio de sus programas.\n",
        "\n",
        "El primer paso es instalar el Tutor Magic en Google Colaboratory.\n",
        "\n",
        "La siguiente celda se debe ejecutar cada vez que abra este notebook para poder que funcione el tutor magic en Google Colaboratory"
      ]
    },
    {
      "cell_type": "code",
      "source": [
        "# Instalar el tutormagic\n",
        "!pip install tutormagic\n",
        "\n",
        "# Cargar la extensión\n",
        "%load_ext tutormagic"
      ],
      "metadata": {
        "colab": {
          "base_uri": "https://localhost:8080/"
        },
        "id": "Eh6Tyqk_exok",
        "outputId": "48294c42-cc88-4491-f7f9-c72c65266e02"
      },
      "execution_count": null,
      "outputs": [
        {
          "output_type": "stream",
          "name": "stdout",
          "text": [
            "Requirement already satisfied: tutormagic in /usr/local/lib/python3.11/dist-packages (0.3.1)\n",
            "Requirement already satisfied: jupyter>=1.0 in /usr/local/lib/python3.11/dist-packages (from tutormagic) (1.1.1)\n",
            "Requirement already satisfied: notebook in /usr/local/lib/python3.11/dist-packages (from jupyter>=1.0->tutormagic) (6.5.7)\n",
            "Requirement already satisfied: jupyter-console in /usr/local/lib/python3.11/dist-packages (from jupyter>=1.0->tutormagic) (6.1.0)\n",
            "Requirement already satisfied: nbconvert in /usr/local/lib/python3.11/dist-packages (from jupyter>=1.0->tutormagic) (7.16.6)\n",
            "Requirement already satisfied: ipykernel in /usr/local/lib/python3.11/dist-packages (from jupyter>=1.0->tutormagic) (6.17.1)\n",
            "Requirement already satisfied: ipywidgets in /usr/local/lib/python3.11/dist-packages (from jupyter>=1.0->tutormagic) (7.7.1)\n",
            "Requirement already satisfied: jupyterlab in /usr/local/lib/python3.11/dist-packages (from jupyter>=1.0->tutormagic) (4.4.2)\n",
            "Requirement already satisfied: debugpy>=1.0 in /usr/local/lib/python3.11/dist-packages (from ipykernel->jupyter>=1.0->tutormagic) (1.8.0)\n",
            "Requirement already satisfied: ipython>=7.23.1 in /usr/local/lib/python3.11/dist-packages (from ipykernel->jupyter>=1.0->tutormagic) (7.34.0)\n",
            "Requirement already satisfied: jupyter-client>=6.1.12 in /usr/local/lib/python3.11/dist-packages (from ipykernel->jupyter>=1.0->tutormagic) (7.4.9)\n",
            "Requirement already satisfied: matplotlib-inline>=0.1 in /usr/local/lib/python3.11/dist-packages (from ipykernel->jupyter>=1.0->tutormagic) (0.1.7)\n",
            "Requirement already satisfied: nest-asyncio in /usr/local/lib/python3.11/dist-packages (from ipykernel->jupyter>=1.0->tutormagic) (1.6.0)\n",
            "Requirement already satisfied: packaging in /usr/local/lib/python3.11/dist-packages (from ipykernel->jupyter>=1.0->tutormagic) (24.2)\n",
            "Requirement already satisfied: psutil in /usr/local/lib/python3.11/dist-packages (from ipykernel->jupyter>=1.0->tutormagic) (5.9.5)\n",
            "Requirement already satisfied: pyzmq>=17 in /usr/local/lib/python3.11/dist-packages (from ipykernel->jupyter>=1.0->tutormagic) (24.0.1)\n",
            "Requirement already satisfied: tornado>=6.1 in /usr/local/lib/python3.11/dist-packages (from ipykernel->jupyter>=1.0->tutormagic) (6.4.2)\n",
            "Requirement already satisfied: traitlets>=5.1.0 in /usr/local/lib/python3.11/dist-packages (from ipykernel->jupyter>=1.0->tutormagic) (5.7.1)\n",
            "Requirement already satisfied: ipython-genutils~=0.2.0 in /usr/local/lib/python3.11/dist-packages (from ipywidgets->jupyter>=1.0->tutormagic) (0.2.0)\n",
            "Requirement already satisfied: widgetsnbextension~=3.6.0 in /usr/local/lib/python3.11/dist-packages (from ipywidgets->jupyter>=1.0->tutormagic) (3.6.10)\n",
            "Requirement already satisfied: jupyterlab-widgets>=1.0.0 in /usr/local/lib/python3.11/dist-packages (from ipywidgets->jupyter>=1.0->tutormagic) (3.0.14)\n",
            "Requirement already satisfied: prompt-toolkit!=3.0.0,!=3.0.1,<3.1.0,>=2.0.0 in /usr/local/lib/python3.11/dist-packages (from jupyter-console->jupyter>=1.0->tutormagic) (3.0.51)\n",
            "Requirement already satisfied: pygments in /usr/local/lib/python3.11/dist-packages (from jupyter-console->jupyter>=1.0->tutormagic) (2.19.1)\n",
            "Requirement already satisfied: async-lru>=1.0.0 in /usr/local/lib/python3.11/dist-packages (from jupyterlab->jupyter>=1.0->tutormagic) (2.0.5)\n",
            "Requirement already satisfied: httpx>=0.25.0 in /usr/local/lib/python3.11/dist-packages (from jupyterlab->jupyter>=1.0->tutormagic) (0.28.1)\n",
            "Requirement already satisfied: jinja2>=3.0.3 in /usr/local/lib/python3.11/dist-packages (from jupyterlab->jupyter>=1.0->tutormagic) (3.1.6)\n",
            "Requirement already satisfied: jupyter-core in /usr/local/lib/python3.11/dist-packages (from jupyterlab->jupyter>=1.0->tutormagic) (5.7.2)\n",
            "Requirement already satisfied: jupyter-lsp>=2.0.0 in /usr/local/lib/python3.11/dist-packages (from jupyterlab->jupyter>=1.0->tutormagic) (2.2.5)\n",
            "Requirement already satisfied: jupyter-server<3,>=2.4.0 in /usr/local/lib/python3.11/dist-packages (from jupyterlab->jupyter>=1.0->tutormagic) (2.15.0)\n",
            "Requirement already satisfied: jupyterlab-server<3,>=2.27.1 in /usr/local/lib/python3.11/dist-packages (from jupyterlab->jupyter>=1.0->tutormagic) (2.27.3)\n",
            "Requirement already satisfied: notebook-shim>=0.2 in /usr/local/lib/python3.11/dist-packages (from jupyterlab->jupyter>=1.0->tutormagic) (0.2.4)\n",
            "Requirement already satisfied: setuptools>=41.1.0 in /usr/local/lib/python3.11/dist-packages (from jupyterlab->jupyter>=1.0->tutormagic) (75.2.0)\n",
            "Requirement already satisfied: beautifulsoup4 in /usr/local/lib/python3.11/dist-packages (from nbconvert->jupyter>=1.0->tutormagic) (4.13.4)\n",
            "Requirement already satisfied: bleach!=5.0.0 in /usr/local/lib/python3.11/dist-packages (from bleach[css]!=5.0.0->nbconvert->jupyter>=1.0->tutormagic) (6.2.0)\n",
            "Requirement already satisfied: defusedxml in /usr/local/lib/python3.11/dist-packages (from nbconvert->jupyter>=1.0->tutormagic) (0.7.1)\n",
            "Requirement already satisfied: jupyterlab-pygments in /usr/local/lib/python3.11/dist-packages (from nbconvert->jupyter>=1.0->tutormagic) (0.3.0)\n",
            "Requirement already satisfied: markupsafe>=2.0 in /usr/local/lib/python3.11/dist-packages (from nbconvert->jupyter>=1.0->tutormagic) (3.0.2)\n",
            "Requirement already satisfied: mistune<4,>=2.0.3 in /usr/local/lib/python3.11/dist-packages (from nbconvert->jupyter>=1.0->tutormagic) (3.1.3)\n",
            "Requirement already satisfied: nbclient>=0.5.0 in /usr/local/lib/python3.11/dist-packages (from nbconvert->jupyter>=1.0->tutormagic) (0.10.2)\n",
            "Requirement already satisfied: nbformat>=5.7 in /usr/local/lib/python3.11/dist-packages (from nbconvert->jupyter>=1.0->tutormagic) (5.10.4)\n",
            "Requirement already satisfied: pandocfilters>=1.4.1 in /usr/local/lib/python3.11/dist-packages (from nbconvert->jupyter>=1.0->tutormagic) (1.5.1)\n",
            "Requirement already satisfied: argon2-cffi in /usr/local/lib/python3.11/dist-packages (from notebook->jupyter>=1.0->tutormagic) (23.1.0)\n",
            "Requirement already satisfied: Send2Trash>=1.8.0 in /usr/local/lib/python3.11/dist-packages (from notebook->jupyter>=1.0->tutormagic) (1.8.3)\n",
            "Requirement already satisfied: terminado>=0.8.3 in /usr/local/lib/python3.11/dist-packages (from notebook->jupyter>=1.0->tutormagic) (0.18.1)\n",
            "Requirement already satisfied: prometheus-client in /usr/local/lib/python3.11/dist-packages (from notebook->jupyter>=1.0->tutormagic) (0.21.1)\n",
            "Requirement already satisfied: nbclassic>=0.4.7 in /usr/local/lib/python3.11/dist-packages (from notebook->jupyter>=1.0->tutormagic) (1.3.0)\n",
            "Requirement already satisfied: webencodings in /usr/local/lib/python3.11/dist-packages (from bleach!=5.0.0->bleach[css]!=5.0.0->nbconvert->jupyter>=1.0->tutormagic) (0.5.1)\n",
            "Requirement already satisfied: tinycss2<1.5,>=1.1.0 in /usr/local/lib/python3.11/dist-packages (from bleach[css]!=5.0.0->nbconvert->jupyter>=1.0->tutormagic) (1.4.0)\n",
            "Requirement already satisfied: anyio in /usr/local/lib/python3.11/dist-packages (from httpx>=0.25.0->jupyterlab->jupyter>=1.0->tutormagic) (4.9.0)\n",
            "Requirement already satisfied: certifi in /usr/local/lib/python3.11/dist-packages (from httpx>=0.25.0->jupyterlab->jupyter>=1.0->tutormagic) (2025.4.26)\n",
            "Requirement already satisfied: httpcore==1.* in /usr/local/lib/python3.11/dist-packages (from httpx>=0.25.0->jupyterlab->jupyter>=1.0->tutormagic) (1.0.9)\n",
            "Requirement already satisfied: idna in /usr/local/lib/python3.11/dist-packages (from httpx>=0.25.0->jupyterlab->jupyter>=1.0->tutormagic) (3.10)\n",
            "Requirement already satisfied: h11>=0.16 in /usr/local/lib/python3.11/dist-packages (from httpcore==1.*->httpx>=0.25.0->jupyterlab->jupyter>=1.0->tutormagic) (0.16.0)\n",
            "Requirement already satisfied: jedi>=0.16 in /usr/local/lib/python3.11/dist-packages (from ipython>=7.23.1->ipykernel->jupyter>=1.0->tutormagic) (0.19.2)\n",
            "Requirement already satisfied: decorator in /usr/local/lib/python3.11/dist-packages (from ipython>=7.23.1->ipykernel->jupyter>=1.0->tutormagic) (4.4.2)\n",
            "Requirement already satisfied: pickleshare in /usr/local/lib/python3.11/dist-packages (from ipython>=7.23.1->ipykernel->jupyter>=1.0->tutormagic) (0.7.5)\n",
            "Requirement already satisfied: backcall in /usr/local/lib/python3.11/dist-packages (from ipython>=7.23.1->ipykernel->jupyter>=1.0->tutormagic) (0.2.0)\n",
            "Requirement already satisfied: pexpect>4.3 in /usr/local/lib/python3.11/dist-packages (from ipython>=7.23.1->ipykernel->jupyter>=1.0->tutormagic) (4.9.0)\n",
            "Requirement already satisfied: entrypoints in /usr/local/lib/python3.11/dist-packages (from jupyter-client>=6.1.12->ipykernel->jupyter>=1.0->tutormagic) (0.4)\n",
            "Requirement already satisfied: python-dateutil>=2.8.2 in /usr/local/lib/python3.11/dist-packages (from jupyter-client>=6.1.12->ipykernel->jupyter>=1.0->tutormagic) (2.9.0.post0)\n",
            "Requirement already satisfied: platformdirs>=2.5 in /usr/local/lib/python3.11/dist-packages (from jupyter-core->jupyterlab->jupyter>=1.0->tutormagic) (4.3.7)\n",
            "Requirement already satisfied: jupyter-events>=0.11.0 in /usr/local/lib/python3.11/dist-packages (from jupyter-server<3,>=2.4.0->jupyterlab->jupyter>=1.0->tutormagic) (0.12.0)\n",
            "Requirement already satisfied: jupyter-server-terminals>=0.4.4 in /usr/local/lib/python3.11/dist-packages (from jupyter-server<3,>=2.4.0->jupyterlab->jupyter>=1.0->tutormagic) (0.5.3)\n",
            "Requirement already satisfied: overrides>=5.0 in /usr/local/lib/python3.11/dist-packages (from jupyter-server<3,>=2.4.0->jupyterlab->jupyter>=1.0->tutormagic) (7.7.0)\n",
            "Requirement already satisfied: websocket-client>=1.7 in /usr/local/lib/python3.11/dist-packages (from jupyter-server<3,>=2.4.0->jupyterlab->jupyter>=1.0->tutormagic) (1.8.0)\n",
            "Requirement already satisfied: argon2-cffi-bindings in /usr/local/lib/python3.11/dist-packages (from argon2-cffi->notebook->jupyter>=1.0->tutormagic) (21.2.0)\n",
            "Requirement already satisfied: babel>=2.10 in /usr/local/lib/python3.11/dist-packages (from jupyterlab-server<3,>=2.27.1->jupyterlab->jupyter>=1.0->tutormagic) (2.17.0)\n",
            "Requirement already satisfied: json5>=0.9.0 in /usr/local/lib/python3.11/dist-packages (from jupyterlab-server<3,>=2.27.1->jupyterlab->jupyter>=1.0->tutormagic) (0.12.0)\n",
            "Requirement already satisfied: jsonschema>=4.18.0 in /usr/local/lib/python3.11/dist-packages (from jupyterlab-server<3,>=2.27.1->jupyterlab->jupyter>=1.0->tutormagic) (4.23.0)\n",
            "Requirement already satisfied: requests>=2.31 in /usr/local/lib/python3.11/dist-packages (from jupyterlab-server<3,>=2.27.1->jupyterlab->jupyter>=1.0->tutormagic) (2.32.3)\n",
            "Requirement already satisfied: fastjsonschema>=2.15 in /usr/local/lib/python3.11/dist-packages (from nbformat>=5.7->nbconvert->jupyter>=1.0->tutormagic) (2.21.1)\n",
            "Requirement already satisfied: wcwidth in /usr/local/lib/python3.11/dist-packages (from prompt-toolkit!=3.0.0,!=3.0.1,<3.1.0,>=2.0.0->jupyter-console->jupyter>=1.0->tutormagic) (0.2.13)\n",
            "Requirement already satisfied: ptyprocess in /usr/local/lib/python3.11/dist-packages (from terminado>=0.8.3->notebook->jupyter>=1.0->tutormagic) (0.7.0)\n",
            "Requirement already satisfied: soupsieve>1.2 in /usr/local/lib/python3.11/dist-packages (from beautifulsoup4->nbconvert->jupyter>=1.0->tutormagic) (2.7)\n",
            "Requirement already satisfied: typing-extensions>=4.0.0 in /usr/local/lib/python3.11/dist-packages (from beautifulsoup4->nbconvert->jupyter>=1.0->tutormagic) (4.13.2)\n",
            "Requirement already satisfied: sniffio>=1.1 in /usr/local/lib/python3.11/dist-packages (from anyio->httpx>=0.25.0->jupyterlab->jupyter>=1.0->tutormagic) (1.3.1)\n",
            "Requirement already satisfied: parso<0.9.0,>=0.8.4 in /usr/local/lib/python3.11/dist-packages (from jedi>=0.16->ipython>=7.23.1->ipykernel->jupyter>=1.0->tutormagic) (0.8.4)\n",
            "Requirement already satisfied: attrs>=22.2.0 in /usr/local/lib/python3.11/dist-packages (from jsonschema>=4.18.0->jupyterlab-server<3,>=2.27.1->jupyterlab->jupyter>=1.0->tutormagic) (25.3.0)\n",
            "Requirement already satisfied: jsonschema-specifications>=2023.03.6 in /usr/local/lib/python3.11/dist-packages (from jsonschema>=4.18.0->jupyterlab-server<3,>=2.27.1->jupyterlab->jupyter>=1.0->tutormagic) (2025.4.1)\n",
            "Requirement already satisfied: referencing>=0.28.4 in /usr/local/lib/python3.11/dist-packages (from jsonschema>=4.18.0->jupyterlab-server<3,>=2.27.1->jupyterlab->jupyter>=1.0->tutormagic) (0.36.2)\n",
            "Requirement already satisfied: rpds-py>=0.7.1 in /usr/local/lib/python3.11/dist-packages (from jsonschema>=4.18.0->jupyterlab-server<3,>=2.27.1->jupyterlab->jupyter>=1.0->tutormagic) (0.24.0)\n",
            "Requirement already satisfied: python-json-logger>=2.0.4 in /usr/local/lib/python3.11/dist-packages (from jupyter-events>=0.11.0->jupyter-server<3,>=2.4.0->jupyterlab->jupyter>=1.0->tutormagic) (3.3.0)\n",
            "Requirement already satisfied: pyyaml>=5.3 in /usr/local/lib/python3.11/dist-packages (from jupyter-events>=0.11.0->jupyter-server<3,>=2.4.0->jupyterlab->jupyter>=1.0->tutormagic) (6.0.2)\n",
            "Requirement already satisfied: rfc3339-validator in /usr/local/lib/python3.11/dist-packages (from jupyter-events>=0.11.0->jupyter-server<3,>=2.4.0->jupyterlab->jupyter>=1.0->tutormagic) (0.1.4)\n",
            "Requirement already satisfied: rfc3986-validator>=0.1.1 in /usr/local/lib/python3.11/dist-packages (from jupyter-events>=0.11.0->jupyter-server<3,>=2.4.0->jupyterlab->jupyter>=1.0->tutormagic) (0.1.1)\n",
            "Requirement already satisfied: six>=1.5 in /usr/local/lib/python3.11/dist-packages (from python-dateutil>=2.8.2->jupyter-client>=6.1.12->ipykernel->jupyter>=1.0->tutormagic) (1.17.0)\n",
            "Requirement already satisfied: charset-normalizer<4,>=2 in /usr/local/lib/python3.11/dist-packages (from requests>=2.31->jupyterlab-server<3,>=2.27.1->jupyterlab->jupyter>=1.0->tutormagic) (3.4.1)\n",
            "Requirement already satisfied: urllib3<3,>=1.21.1 in /usr/local/lib/python3.11/dist-packages (from requests>=2.31->jupyterlab-server<3,>=2.27.1->jupyterlab->jupyter>=1.0->tutormagic) (2.4.0)\n",
            "Requirement already satisfied: cffi>=1.0.1 in /usr/local/lib/python3.11/dist-packages (from argon2-cffi-bindings->argon2-cffi->notebook->jupyter>=1.0->tutormagic) (1.17.1)\n",
            "Requirement already satisfied: pycparser in /usr/local/lib/python3.11/dist-packages (from cffi>=1.0.1->argon2-cffi-bindings->argon2-cffi->notebook->jupyter>=1.0->tutormagic) (2.22)\n",
            "Requirement already satisfied: fqdn in /usr/local/lib/python3.11/dist-packages (from jsonschema[format-nongpl]>=4.18.0->jupyter-events>=0.11.0->jupyter-server<3,>=2.4.0->jupyterlab->jupyter>=1.0->tutormagic) (1.5.1)\n",
            "Requirement already satisfied: isoduration in /usr/local/lib/python3.11/dist-packages (from jsonschema[format-nongpl]>=4.18.0->jupyter-events>=0.11.0->jupyter-server<3,>=2.4.0->jupyterlab->jupyter>=1.0->tutormagic) (20.11.0)\n",
            "Requirement already satisfied: jsonpointer>1.13 in /usr/local/lib/python3.11/dist-packages (from jsonschema[format-nongpl]>=4.18.0->jupyter-events>=0.11.0->jupyter-server<3,>=2.4.0->jupyterlab->jupyter>=1.0->tutormagic) (3.0.0)\n",
            "Requirement already satisfied: uri-template in /usr/local/lib/python3.11/dist-packages (from jsonschema[format-nongpl]>=4.18.0->jupyter-events>=0.11.0->jupyter-server<3,>=2.4.0->jupyterlab->jupyter>=1.0->tutormagic) (1.3.0)\n",
            "Requirement already satisfied: webcolors>=24.6.0 in /usr/local/lib/python3.11/dist-packages (from jsonschema[format-nongpl]>=4.18.0->jupyter-events>=0.11.0->jupyter-server<3,>=2.4.0->jupyterlab->jupyter>=1.0->tutormagic) (24.11.1)\n",
            "Requirement already satisfied: arrow>=0.15.0 in /usr/local/lib/python3.11/dist-packages (from isoduration->jsonschema[format-nongpl]>=4.18.0->jupyter-events>=0.11.0->jupyter-server<3,>=2.4.0->jupyterlab->jupyter>=1.0->tutormagic) (1.3.0)\n",
            "Requirement already satisfied: types-python-dateutil>=2.8.10 in /usr/local/lib/python3.11/dist-packages (from arrow>=0.15.0->isoduration->jsonschema[format-nongpl]>=4.18.0->jupyter-events>=0.11.0->jupyter-server<3,>=2.4.0->jupyterlab->jupyter>=1.0->tutormagic) (2.9.0.20241206)\n",
            "The tutormagic extension is already loaded. To reload it, use:\n",
            "  %reload_ext tutormagic\n"
          ]
        }
      ]
    },
    {
      "cell_type": "markdown",
      "metadata": {
        "id": "mCkyuX8p2SYu"
      },
      "source": [
        "# Funciones\n",
        "### ¿Qué es una función?\n",
        "Una función es un bloque de código que ejecuta una serie de instrucciones que queremos utilizar frecuentemente. Para evitar reescribir estas instrucciones específicas cada vez que las vayamos a utilizar, les asignamos un nombre y posteriormente, las llamamos (o invocamos) utilizando ese nombre.\n",
        "\n",
        "Conviene definir nuestras propias funciones cuando tenemos una operación que realizamos varias veces, a modo de simplificar el código. Un buen ejemplo son las funciones de entrada y salida por consola en Python.\n",
        "\n",
        "Las funciones <b>input()</b> y <b>print()</b> son funciones propias de Python. Internamente, ellas realizan un proceso que permite leer o imprimir por consola una cadena de caracteres. Cada vez que necesitamos ingresar o mostrar un valor por consola, basta con invocar la función correspondiente."
      ]
    },
    {
      "cell_type": "markdown",
      "metadata": {
        "id": "ExHBNxFem9K_"
      },
      "source": [
        "## Funciones definidas por el usuario\n",
        "Para crear nuestras propias funciones, utilizamos la palabra clave def, seguida por el nombre de la función y todos los datos que recibiría, separados por comas.\n",
        "\n",
        "La estructura básica para definir una función es:\n",
        "\n",
        "\n",
        "\tdef nombre_funcion (parametro):\n",
        "\t\t'''documentacion'''\n",
        "\t  \tinstrucciones\n",
        "\t  \treturn variable"
      ]
    },
    {
      "cell_type": "markdown",
      "metadata": {
        "id": "WVeC9CLPn4Wk"
      },
      "source": [
        "Ejemplo básico\n"
      ]
    },
    {
      "cell_type": "code",
      "metadata": {
        "id": "YGOpYXbsn4Wk",
        "colab": {
          "base_uri": "https://localhost:8080/",
          "height": 371
        },
        "outputId": "3bd96345-7c6b-441c-8083-abd2a301d5a2"
      },
      "source": [
        "# la siguiente línea activa el tutor magic para el ejemplo específico\n",
        "%%tutor --lang python3 -s\n",
        "\n",
        "# se define la función cuadrado con un parametro x\n",
        "def cuadrado(x):\n",
        "    return x * x\n",
        "\n",
        "# se invoca la función cuadrado con el argumento 100 (x)\n",
        "print(cuadrado(100))\n",
        "\n",
        "# se invoca la función cuadrado con el argumento 100 (x)\n",
        "print(cuadrado(19))"
      ],
      "execution_count": null,
      "outputs": [
        {
          "output_type": "display_data",
          "data": {
            "text/plain": [
              "<IPython.lib.display.IFrame at 0x7c3c97f871d0>"
            ],
            "text/html": [
              "\n",
              "        <iframe\n",
              "            width=\"100%\"\n",
              "            height=\"350\"\n",
              "            src=\"https://pythontutor.com/iframe-embed.html#code=%0A%23%20se%20define%20la%20funci%C3%B3n%20cuadrado%20con%20un%20parametro%20x%0Adef%20cuadrado%28x%29%3A%0A%20%20%20%20return%20x%20%2A%20x%0A%0A%23%20se%20invoca%20la%20funci%C3%B3n%20cuadrado%20con%20el%20argumento%20100%20%28x%29%0Aprint%28cuadrado%28100%29%29%0A%0A%23%20se%20invoca%20la%20funci%C3%B3n%20cuadrado%20con%20el%20argumento%20100%20%28x%29%0Aprint%28cuadrado%2819%29%29%0A&origin=opt-frontend.js&cumulative=false&heapPrimitives=false&textReferences=false&curInstr=0&&verticalStack=false&py=3&rawInputLstJSON=%5B%5D&codeDivWidth=50%25&codeDivHeight=100%25\"\n",
              "            frameborder=\"0\"\n",
              "            allowfullscreen\n",
              "            \n",
              "        ></iframe>\n",
              "        "
            ]
          },
          "metadata": {}
        }
      ]
    },
    {
      "cell_type": "markdown",
      "metadata": {
        "id": "Ns87DDMan4Wk"
      },
      "source": [
        "Para invocar una función dentro de nuestro código, debemos de utilizar su nombre seguido por paréntesis, y debemos pasar los valores que pida la función. Al momento que pasamos valores a una función, estos toman el nombre de **argumentos**.\n",
        "\n",
        "La estructura básica para llamar una función es:\n",
        "\n",
        "\t'''documentacion'''\n",
        "\tvariable = nombre_funcion (argumento)\n",
        "\n",
        "Un **parámetro** sólo existe dentro de la función y no tiene un valor específico. Un **argumento** es lo que se le pasa a la función al momento en que esta es llamada o invocada. En el ejemplo anterior, *x* es un **parámetro** mientras que 100 y 19 son **argumentos**.\n",
        "\n",
        "Las funciones más simples, como *cuadrado()*, suelen retornar un valor al programa desde el cual se invocan. Este valor debe ser asignado o utilizado inmediatamente en el código o se pierde y no podremos utilizarlo posteriormente sin volver a invocar la función."
      ]
    },
    {
      "cell_type": "code",
      "metadata": {
        "id": "6gM_nss8nsq6",
        "colab": {
          "base_uri": "https://localhost:8080/",
          "height": 371
        },
        "outputId": "1c53c0e4-5405-48ef-c934-a57e0be88a8a"
      },
      "source": [
        "# la siguiente línea activa el tutor magic para el ejemplo específico\n",
        "%%tutor --lang python3 -s\n",
        "\n",
        "# crear función para duplicar un valor\n",
        "def duplicar(n):\n",
        "  z = n * 2\n",
        "  return z\n",
        "\n",
        "# asignar a la variable x el resultado de invocar la función duplicar\n",
        "x = duplicar(4)\n",
        "\n",
        "# mostrar el resultado obtenido\n",
        "print(x) # print es una función!"
      ],
      "execution_count": null,
      "outputs": [
        {
          "output_type": "display_data",
          "data": {
            "text/plain": [
              "<IPython.lib.display.IFrame at 0x7c3c733ed9d0>"
            ],
            "text/html": [
              "\n",
              "        <iframe\n",
              "            width=\"100%\"\n",
              "            height=\"350\"\n",
              "            src=\"https://pythontutor.com/iframe-embed.html#code=%0A%23%20crear%20funci%C3%B3n%20para%20duplicar%20un%20valor%0Adef%20duplicar%28n%29%3A%0A%20%20%27%27%27Duplicar%20un%20valor%27%27%27%0A%20%20z%20%3D%20n%20%2A%202%0A%20%20return%20z%0A%0A%23%20asignar%20a%20la%20variable%20x%20el%20resultado%20de%20invocar%20la%20funci%C3%B3n%20duplicar%0Ax%20%3D%20duplicar%284%29%0A%0A%23%20mostrar%20el%20resultado%20obtenido%0Aprint%28x%29%20%23%20print%20es%20una%20funci%C3%B3n%21%0A&origin=opt-frontend.js&cumulative=false&heapPrimitives=false&textReferences=false&curInstr=0&&verticalStack=false&py=3&rawInputLstJSON=%5B%5D&codeDivWidth=50%25&codeDivHeight=100%25\"\n",
              "            frameborder=\"0\"\n",
              "            allowfullscreen\n",
              "            \n",
              "        ></iframe>\n",
              "        "
            ]
          },
          "metadata": {}
        }
      ]
    },
    {
      "cell_type": "markdown",
      "source": [
        "##Argumentos"
      ],
      "metadata": {
        "id": "f7i5Ndm3kcvc"
      }
    },
    {
      "cell_type": "markdown",
      "metadata": {
        "id": "hbb-v1-nnsrA"
      },
      "source": [
        "\n",
        "###**Por posición**\n",
        "\n",
        "Los argumentos por posición o posicionales son la forma más básica e intuitiva de pasar parámetros. Si tenemos una función <b>resta()</b> que acepta dos parámetros, se puede llamar como se muestra a continuación:\n"
      ]
    },
    {
      "cell_type": "code",
      "metadata": {
        "id": "E5kIyDransrB",
        "colab": {
          "base_uri": "https://localhost:8080/",
          "height": 371
        },
        "outputId": "ccd3f54b-5424-47cd-9532-d1ba3a7e06e3"
      },
      "source": [
        "# la siguiente línea activa el tutor magic para el ejemplo específico\n",
        "%%tutor --lang python3 -s\n",
        "\n",
        "# crear una función de resta\n",
        "def resta(a, b):\n",
        "    return a-b\n",
        "\n",
        "print(resta(5, 3))"
      ],
      "execution_count": null,
      "outputs": [
        {
          "output_type": "display_data",
          "data": {
            "text/plain": [
              "<IPython.lib.display.IFrame at 0x7c3c733ec2d0>"
            ],
            "text/html": [
              "\n",
              "        <iframe\n",
              "            width=\"100%\"\n",
              "            height=\"350\"\n",
              "            src=\"https://pythontutor.com/iframe-embed.html#code=%0A%23%20crear%20una%20funci%C3%B3n%20que%20invoca%20dos%20funciones%20incorporadas%20de%20Python%0Adef%20resta%28a%2C%20b%29%3A%0A%20%20%20%20return%20a-b%0A%0Aprint%28resta%285%2C%203%29%29%20%0A&origin=opt-frontend.js&cumulative=false&heapPrimitives=false&textReferences=false&curInstr=0&&verticalStack=false&py=3&rawInputLstJSON=%5B%5D&codeDivWidth=50%25&codeDivHeight=100%25\"\n",
              "            frameborder=\"0\"\n",
              "            allowfullscreen\n",
              "            \n",
              "        ></iframe>\n",
              "        "
            ]
          },
          "metadata": {}
        }
      ]
    },
    {
      "cell_type": "markdown",
      "metadata": {
        "id": "_c2sULcynsrE"
      },
      "source": [
        "Al tratarse de parámetros posicionales, se interpretará que el primer argumento es la a y el segundo la b.\n",
        "\n",
        "El número de parámetros es fijo."
      ]
    },
    {
      "cell_type": "code",
      "source": [
        "def resta(a, b):\n",
        "    return a-b\n",
        "\n",
        "print(resta(1))"
      ],
      "metadata": {
        "colab": {
          "base_uri": "https://localhost:8080/",
          "height": 176
        },
        "id": "87Kiic8Ki_5O",
        "outputId": "59fbd951-d7f9-4270-df34-b3d27ac4263a"
      },
      "execution_count": null,
      "outputs": [
        {
          "output_type": "error",
          "ename": "TypeError",
          "evalue": "resta() missing 1 required positional argument: 'b'",
          "traceback": [
            "\u001b[0;31m---------------------------------------------------------------------------\u001b[0m",
            "\u001b[0;31mTypeError\u001b[0m                                 Traceback (most recent call last)",
            "\u001b[0;32m<ipython-input-15-3ba8ad2d128b>\u001b[0m in \u001b[0;36m<cell line: 0>\u001b[0;34m()\u001b[0m\n\u001b[1;32m      2\u001b[0m     \u001b[0;32mreturn\u001b[0m \u001b[0ma\u001b[0m\u001b[0;34m-\u001b[0m\u001b[0mb\u001b[0m\u001b[0;34m\u001b[0m\u001b[0;34m\u001b[0m\u001b[0m\n\u001b[1;32m      3\u001b[0m \u001b[0;34m\u001b[0m\u001b[0m\n\u001b[0;32m----> 4\u001b[0;31m \u001b[0mprint\u001b[0m\u001b[0;34m(\u001b[0m\u001b[0mresta\u001b[0m\u001b[0;34m(\u001b[0m\u001b[0;36m1\u001b[0m\u001b[0;34m)\u001b[0m\u001b[0;34m)\u001b[0m\u001b[0;34m\u001b[0m\u001b[0;34m\u001b[0m\u001b[0m\n\u001b[0m",
            "\u001b[0;31mTypeError\u001b[0m: resta() missing 1 required positional argument: 'b'"
          ]
        }
      ]
    },
    {
      "cell_type": "code",
      "source": [
        "def resta(a, b):\n",
        "    return a-b\n",
        "\n",
        "print(resta(5,4,3))"
      ],
      "metadata": {
        "colab": {
          "base_uri": "https://localhost:8080/",
          "height": 176
        },
        "id": "rKVrtqBGjexb",
        "outputId": "c30b5fda-e486-4063-d689-edcdc2d221f2"
      },
      "execution_count": null,
      "outputs": [
        {
          "output_type": "error",
          "ename": "TypeError",
          "evalue": "resta() takes 2 positional arguments but 3 were given",
          "traceback": [
            "\u001b[0;31m---------------------------------------------------------------------------\u001b[0m",
            "\u001b[0;31mTypeError\u001b[0m                                 Traceback (most recent call last)",
            "\u001b[0;32m<ipython-input-16-633e31b7fc2b>\u001b[0m in \u001b[0;36m<cell line: 0>\u001b[0;34m()\u001b[0m\n\u001b[1;32m      1\u001b[0m \u001b[0;32mdef\u001b[0m \u001b[0mresta\u001b[0m\u001b[0;34m(\u001b[0m\u001b[0ma\u001b[0m\u001b[0;34m,\u001b[0m \u001b[0mb\u001b[0m\u001b[0;34m)\u001b[0m\u001b[0;34m:\u001b[0m\u001b[0;34m\u001b[0m\u001b[0;34m\u001b[0m\u001b[0m\n\u001b[1;32m      2\u001b[0m     \u001b[0;32mreturn\u001b[0m \u001b[0ma\u001b[0m\u001b[0;34m-\u001b[0m\u001b[0mb\u001b[0m\u001b[0;34m\u001b[0m\u001b[0;34m\u001b[0m\u001b[0m\n\u001b[0;32m----> 3\u001b[0;31m \u001b[0mprint\u001b[0m\u001b[0;34m(\u001b[0m\u001b[0mresta\u001b[0m\u001b[0;34m(\u001b[0m\u001b[0;36m5\u001b[0m\u001b[0;34m,\u001b[0m\u001b[0;36m4\u001b[0m\u001b[0;34m,\u001b[0m\u001b[0;36m3\u001b[0m\u001b[0;34m)\u001b[0m\u001b[0;34m)\u001b[0m\u001b[0;34m\u001b[0m\u001b[0;34m\u001b[0m\u001b[0m\n\u001b[0m",
            "\u001b[0;31mTypeError\u001b[0m: resta() takes 2 positional arguments but 3 were given"
          ]
        }
      ]
    },
    {
      "cell_type": "markdown",
      "source": [
        "No es posible usar menos o mas argumentos de los tiene la función definidos, ya que no sabría que hacer con ellos. Por lo tanto si lo intentamos, Python nos dirá que toma 2 posicionales y estamos pasando 3, lo que no es posible."
      ],
      "metadata": {
        "id": "i3Ta1VC6js9D"
      }
    },
    {
      "cell_type": "markdown",
      "source": [
        "###**Por nombre**\n",
        "Otra forma de llamar a una función, es usando el nombre del argumento con = y su valor. El siguiente código hace lo mismo que el código anterior, con la diferencia de que los argumentos no son posicionales.\n"
      ],
      "metadata": {
        "id": "lp4p7riCkFAt"
      }
    },
    {
      "cell_type": "code",
      "source": [
        "def resta(a, b):\n",
        "    return a-b\n",
        "\n",
        "print(resta(a=3, b=5))"
      ],
      "metadata": {
        "colab": {
          "base_uri": "https://localhost:8080/"
        },
        "id": "dDX2HsCDkTc4",
        "outputId": "d3f0422e-80aa-4924-a9b4-6c4803b522a2"
      },
      "execution_count": null,
      "outputs": [
        {
          "output_type": "stream",
          "name": "stdout",
          "text": [
            "-2\n"
          ]
        }
      ]
    },
    {
      "cell_type": "code",
      "source": [
        "def resta(a, b):\n",
        "    return a-b\n",
        "\n",
        "print(resta(b=5, a=3))"
      ],
      "metadata": {
        "colab": {
          "base_uri": "https://localhost:8080/"
        },
        "id": "EUBsmiOJko3F",
        "outputId": "814b4ce5-816b-4c27-d94e-2c93cb2ff3c5"
      },
      "execution_count": null,
      "outputs": [
        {
          "output_type": "stream",
          "name": "stdout",
          "text": [
            "-2\n"
          ]
        }
      ]
    },
    {
      "cell_type": "markdown",
      "source": [
        "###**Por defecto**\n",
        "Tal vez queramos tener una función con algún parámetro opcional, que pueda ser usado o no dependiendo de diferentes circunstancias. Para ello, lo que podemos hacer es asignar un valor por defecto a la función.\n"
      ],
      "metadata": {
        "id": "imLTbJTLlphe"
      }
    },
    {
      "cell_type": "code",
      "source": [
        "# la siguiente línea activa el tutor magic para el ejemplo específico\n",
        "%%tutor --lang python3 -s\n",
        "\n",
        "# crear una función de suma\n",
        "def suma(a=3, b=5, c=0):\n",
        "    return a+b+c\n",
        "\n",
        "suma()\n",
        "suma(1)\n",
        "suma(4,5)\n",
        "suma(5,3,2)\n",
        "suma(a=5, c=3)"
      ],
      "metadata": {
        "colab": {
          "base_uri": "https://localhost:8080/",
          "height": 371
        },
        "id": "zoB-tI5j0Lsi",
        "outputId": "b9cab903-ede6-4277-abc5-ab5874716277"
      },
      "execution_count": null,
      "outputs": [
        {
          "output_type": "display_data",
          "data": {
            "text/plain": [
              "<IPython.lib.display.IFrame at 0x7c3c732c7cd0>"
            ],
            "text/html": [
              "\n",
              "        <iframe\n",
              "            width=\"100%\"\n",
              "            height=\"350\"\n",
              "            src=\"https://pythontutor.com/iframe-embed.html#code=%0A%23%20crear%20una%20funci%C3%B3n%20de%20suma%0Adef%20suma%28a%3D3%2C%20b%3D5%2C%20c%3D0%29%3A%0A%20%20%20%20return%20a%2Bb%2Bc%0A%0Asuma%28%29%0Asuma%281%29%20%20%20%20%0Asuma%284%2C5%29%20%20%0Asuma%285%2C3%2C2%29%0Asuma%28a%3D5%2C%20c%3D3%29%0A&origin=opt-frontend.js&cumulative=false&heapPrimitives=false&textReferences=false&curInstr=0&&verticalStack=false&py=3&rawInputLstJSON=%5B%5D&codeDivWidth=50%25&codeDivHeight=100%25\"\n",
              "            frameborder=\"0\"\n",
              "            allowfullscreen\n",
              "            \n",
              "        ></iframe>\n",
              "        "
            ]
          },
          "metadata": {}
        }
      ]
    },
    {
      "cell_type": "markdown",
      "source": [
        "###**De longitud**\n",
        "\n",
        "Imaginemos que tenemos una función para que sume todos los números, pero no sabemos cuantos números debe sumar, ¿Qué podemos poner en los parametros para que acepte cualquier cantidad de números?\n",
        "\n",
        "La primera opción es una **lista**:"
      ],
      "metadata": {
        "id": "k9YhWHnB4Rcf"
      }
    },
    {
      "cell_type": "code",
      "source": [
        "# la siguiente línea activa el tutor magic para el ejemplo específico\n",
        "%%tutor --lang python3 -s\n",
        "\n",
        "# crear una función de suma\n",
        "def suma(numeros):\n",
        "    total = 0\n",
        "    for n in numeros:\n",
        "        total += n\n",
        "    return total\n",
        "\n",
        "suma([1,3,5,4])"
      ],
      "metadata": {
        "id": "znparZiv5avt"
      },
      "execution_count": null,
      "outputs": []
    },
    {
      "cell_type": "markdown",
      "source": [
        "Esta forma es válida, pero realmente no estamos trabajando con argumentos de longitud variable. En realidad tenemos un solo argumento que resulta ser una lista de números.\n",
        "\n",
        "######*args\n",
        "Python tiene una herramienta muy potente que si declaramos un argumento con *, esto hará que el argumento que se pase sea empaquetado en una tupla de manera automática."
      ],
      "metadata": {
        "id": "YtUnxAI15w0h"
      }
    },
    {
      "cell_type": "code",
      "source": [
        "%%tutor --lang python3 -s\n",
        "\n",
        "def suma(*numeros):\n",
        "    print(type(numeros))\n",
        "    total = 0\n",
        "    for n in numeros:\n",
        "        total += n\n",
        "    return total\n",
        "\n",
        "suma(6)\n",
        "suma(6, 4, 10)\n",
        "suma(6, 4, 10, 20, 4, 6, 7)"
      ],
      "metadata": {
        "colab": {
          "base_uri": "https://localhost:8080/",
          "height": 371
        },
        "id": "Iwetn-CI6BsV",
        "outputId": "de990c47-b085-484a-bbec-b004c69bcf91"
      },
      "execution_count": null,
      "outputs": [
        {
          "output_type": "display_data",
          "data": {
            "text/plain": [
              "<IPython.lib.display.IFrame at 0x7c3c733dd990>"
            ],
            "text/html": [
              "\n",
              "        <iframe\n",
              "            width=\"100%\"\n",
              "            height=\"350\"\n",
              "            src=\"https://pythontutor.com/iframe-embed.html#code=%0Adef%20suma%28%2Anumeros%29%3A%0A%20%20%20%20print%28type%28numeros%29%29%0A%20%20%20%20total%20%3D%200%0A%20%20%20%20for%20n%20in%20numeros%3A%0A%20%20%20%20%20%20%20%20total%20%2B%3D%20n%0A%20%20%20%20return%20total%0A%0Asuma%286%29%20%0Asuma%286%2C%204%2C%2010%29%20%0Asuma%286%2C%204%2C%2010%2C%2020%2C%204%2C%206%2C%207%29%0A&origin=opt-frontend.js&cumulative=false&heapPrimitives=false&textReferences=false&curInstr=0&&verticalStack=false&py=3&rawInputLstJSON=%5B%5D&codeDivWidth=50%25&codeDivHeight=100%25\"\n",
              "            frameborder=\"0\"\n",
              "            allowfullscreen\n",
              "            \n",
              "        ></iframe>\n",
              "        "
            ]
          },
          "metadata": {}
        }
      ]
    },
    {
      "cell_type": "markdown",
      "source": [
        "#####**kwargs\n",
        "Usando doble ** es posible también tener como parámetro de entrada una lista de elementos almacenados en forma de clave y valor. En este caso podemos iterar los valores haciendo uso de <b>items()</b>"
      ],
      "metadata": {
        "id": "r94XrNR77Di8"
      }
    },
    {
      "cell_type": "code",
      "source": [
        "%%tutor --lang python3 -s\n",
        "\n",
        "def suma(**numeros):\n",
        "  print(type(numeros))\n",
        "  sum = 0\n",
        "  for key, value in numeros.items():\n",
        "      print(key, value)\n",
        "      sum += value\n",
        "  return suma\n",
        "\n",
        "suma(a=5, b=20, c=23)\n",
        "suma(5, 20, 23)"
      ],
      "metadata": {
        "colab": {
          "base_uri": "https://localhost:8080/",
          "height": 371
        },
        "id": "SVYOXrSO7C1J",
        "outputId": "5a376433-ba1d-4553-eaf8-fe5aa848f14e"
      },
      "execution_count": null,
      "outputs": [
        {
          "output_type": "display_data",
          "data": {
            "text/plain": [
              "<IPython.lib.display.IFrame at 0x7c3c733ed9d0>"
            ],
            "text/html": [
              "\n",
              "        <iframe\n",
              "            width=\"100%\"\n",
              "            height=\"350\"\n",
              "            src=\"https://pythontutor.com/iframe-embed.html#code=%0Adef%20suma%28%2A%2Anumeros%29%3A%0A%20%20print%28type%28numeros%29%29%0A%20%20sum%20%3D%200%0A%20%20for%20key%2C%20value%20in%20numeros.items%28%29%3A%0A%20%20%20%20%20%20print%28key%2C%20value%29%0A%20%20%20%20%20%20sum%20%2B%3D%20value%0A%20%20return%20suma%0A%0Asuma%28a%3D5%2C%20b%3D20%2C%20c%3D23%29%0Asuma%285%2C%2020%2C%2023%29%0A&origin=opt-frontend.js&cumulative=false&heapPrimitives=false&textReferences=false&curInstr=0&&verticalStack=false&py=3&rawInputLstJSON=%5B%5D&codeDivWidth=50%25&codeDivHeight=100%25\"\n",
              "            frameborder=\"0\"\n",
              "            allowfullscreen\n",
              "            \n",
              "        ></iframe>\n",
              "        "
            ]
          },
          "metadata": {}
        }
      ]
    },
    {
      "cell_type": "markdown",
      "source": [
        "##Return\n",
        "\n",
        "El uso de la sentencia **return** permite realizar dos cosas:\n",
        "\n",
        "- Salir de la función y transferir la ejecución de vuelta a donde se realizó la llamada.\n",
        "- Devolver uno o varios parámetros, fruto de la ejecución de la función.\n"
      ],
      "metadata": {
        "id": "MsqsouFk8xXx"
      }
    },
    {
      "cell_type": "code",
      "source": [
        "# la siguiente línea activa el tutor magic para el ejemplo específico\n",
        "%%tutor --lang python3 -s\n",
        "\n",
        "# crear una función de prueba\n",
        "def mi_funcion():\n",
        "    print(\"Entra en mi_funcion\")\n",
        "    return\n",
        "    print(\"No llega\")\n",
        "\n",
        "mi_funcion()"
      ],
      "metadata": {
        "colab": {
          "base_uri": "https://localhost:8080/",
          "height": 371
        },
        "id": "WV8KLbKT9IP4",
        "outputId": "d699511b-b9df-40d8-b61d-9be437d71ab6"
      },
      "execution_count": null,
      "outputs": [
        {
          "output_type": "display_data",
          "data": {
            "text/plain": [
              "<IPython.lib.display.IFrame at 0x7c3c73210f10>"
            ],
            "text/html": [
              "\n",
              "        <iframe\n",
              "            width=\"100%\"\n",
              "            height=\"350\"\n",
              "            src=\"https://pythontutor.com/iframe-embed.html#code=%0A%23%20crear%20una%20funci%C3%B3n%20de%20prueba%0Adef%20mi_funcion%28%29%3A%0A%20%20%20%20print%28%22Entra%20en%20mi_funcion%22%29%0A%20%20%20%20return%0A%20%20%20%20print%28%22No%20llega%22%29%0A%0Ami_funcion%28%29%20%0A&origin=opt-frontend.js&cumulative=false&heapPrimitives=false&textReferences=false&curInstr=0&&verticalStack=false&py=3&rawInputLstJSON=%5B%5D&codeDivWidth=50%25&codeDivHeight=100%25\"\n",
              "            frameborder=\"0\"\n",
              "            allowfullscreen\n",
              "            \n",
              "        ></iframe>\n",
              "        "
            ]
          },
          "metadata": {}
        }
      ]
    },
    {
      "cell_type": "markdown",
      "source": [
        "Sólo llamamos a return una vez hemos acabado de hacer lo que teníamos que hacer en la función.\n",
        "\n",
        "Normalmente las funciones son llamadas para realizar unos cálculos en base a una entrada, por lo que es interesante poder devolver ese resultado a quien llamó a la función."
      ],
      "metadata": {
        "id": "M3pxwLtu9sA9"
      }
    },
    {
      "cell_type": "code",
      "source": [
        "%%tutor --lang python3 -s\n",
        "\n",
        "# crear definición que cálcula la suma y la media\n",
        "def suma_y_media(a, b, c):\n",
        "    suma = a+b+c\n",
        "    media = suma/3\n",
        "    return suma, media\n",
        "\n",
        "suma, media = suma_y_media(9, 6, 3)\n",
        "\n",
        "print(suma)  # 18\n",
        "print(media) # 6.0"
      ],
      "metadata": {
        "id": "vEpLIXWh93zm"
      },
      "execution_count": null,
      "outputs": []
    },
    {
      "cell_type": "markdown",
      "metadata": {
        "id": "NtjV_a2VnsrM"
      },
      "source": [
        "## Ámbito de las variables\n",
        "\n",
        "Las variables utilizadas dentro de las funciones son invisibles para el resto del código, y viceversa. Los **parámetros** (variables que necesita recibir la función y que son utilizados dentro de su cuerpo) y los ***return*** de las funciones ayudan a comunicar la ejecución del programa principal y con la función.\n",
        "\n",
        "- Si usamos un parámetro pasado por **valor**, se creará una copia local de la variable, lo que implica que cualquier modificación sobre la misma no tendrá efecto sobre la original.\n",
        "- Con una variable pasada como referencia, se actuará directamente sobre la variable pasada, por lo que las modificaciones afectarán a la variable original.\n"
      ]
    },
    {
      "cell_type": "code",
      "source": [
        "%%tutor --lang python3 -s\n",
        "\n",
        "#Paso por Valor\n",
        "x = 10\n",
        "def funcion(entrada):\n",
        "    entrada = 0\n",
        "\n",
        "funcion(x)\n",
        "\n",
        "print(x)"
      ],
      "metadata": {
        "colab": {
          "base_uri": "https://localhost:8080/",
          "height": 371
        },
        "id": "YZASSG2aFGGq",
        "outputId": "abdd6927-ff2c-428e-e464-c6b132968164"
      },
      "execution_count": null,
      "outputs": [
        {
          "output_type": "display_data",
          "data": {
            "text/plain": [
              "<IPython.lib.display.IFrame at 0x7c3c732c59d0>"
            ],
            "text/html": [
              "\n",
              "        <iframe\n",
              "            width=\"100%\"\n",
              "            height=\"350\"\n",
              "            src=\"https://pythontutor.com/iframe-embed.html#code=%0A%23Paso%20por%20Valor%0Ax%20%3D%2010%0Adef%20funcion%28entrada%29%3A%0A%20%20%20%20entrada%20%3D%200%0A%0Afuncion%28x%29%0A%0Aprint%28x%29%0A&origin=opt-frontend.js&cumulative=false&heapPrimitives=false&textReferences=false&curInstr=0&&verticalStack=false&py=3&rawInputLstJSON=%5B%5D&codeDivWidth=50%25&codeDivHeight=100%25\"\n",
              "            frameborder=\"0\"\n",
              "            allowfullscreen\n",
              "            \n",
              "        ></iframe>\n",
              "        "
            ]
          },
          "metadata": {}
        }
      ]
    },
    {
      "cell_type": "code",
      "source": [
        "%%tutor --lang python3 -s\n",
        "\n",
        "#Paso por Referencia\n",
        "x = [10, 20, 30]\n",
        "def funcion(entrada):\n",
        "    entrada.append(40)\n",
        "\n",
        "funcion(x)\n",
        "print(x)"
      ],
      "metadata": {
        "colab": {
          "base_uri": "https://localhost:8080/",
          "height": 371
        },
        "id": "NNACHzM0FSeO",
        "outputId": "135cb2c1-c44b-4ad8-827c-9bafb7c3f247"
      },
      "execution_count": null,
      "outputs": [
        {
          "output_type": "display_data",
          "data": {
            "text/plain": [
              "<IPython.lib.display.IFrame at 0x7c3c733dd990>"
            ],
            "text/html": [
              "\n",
              "        <iframe\n",
              "            width=\"100%\"\n",
              "            height=\"350\"\n",
              "            src=\"https://pythontutor.com/iframe-embed.html#code=%0A%23Paso%20por%20Referencia%0Ax%20%3D%20%5B10%2C%2020%2C%2030%5D%0Adef%20funcion%28entrada%29%3A%0A%20%20%20%20entrada.append%2840%29%0A%0Afuncion%28x%29%0Aprint%28x%29%0A&origin=opt-frontend.js&cumulative=false&heapPrimitives=false&textReferences=false&curInstr=0&&verticalStack=false&py=3&rawInputLstJSON=%5B%5D&codeDivWidth=50%25&codeDivHeight=100%25\"\n",
              "            frameborder=\"0\"\n",
              "            allowfullscreen\n",
              "            \n",
              "        ></iframe>\n",
              "        "
            ]
          },
          "metadata": {}
        }
      ]
    },
    {
      "cell_type": "markdown",
      "metadata": {
        "id": "tn07wdR8nsq6"
      },
      "source": [
        "##Funciones incorporadas (built-in) en Python\n",
        "\n",
        "El propósito principal detrás de la creación de funciones dentro de un programa es la reutilización de código, lo que lleva a mayores niveles de abstracción. Muchos lenguajes de programación tienen funciones predefinidas para las operaciones básicas de listas, tal como calcular la longitud, invertir la lista, eliminar un elemento de esta, etcétera. Otras funciones comúnmente predefinidas son las matemáticas.\n",
        "\n",
        "### Otras funciones propias de Python\n",
        "\n",
        "Python tiene muchas funciones propias que hacen alguna tarea específica. Algunas de ellas son:\n",
        "\n",
        "* <b>len()</b>: Recibe una variable y retorna la longitud de esta.\n",
        "* <b>min()</b>: Retorna el menor elemento numérico entre varios.\n",
        "\n",
        "Se invita a consultar información adicional en los siguientes enlaces:\n",
        "* [Pyhton.org Built-in Functions](https://docs.python.org/3/library/functions.html)\n",
        "* [Programiz Built-in Functions](https://www.programiz.com/python-programming/methods/built-in)\n",
        "* [w3schools Built-in Functions](https://www.w3schools.com/python/python_ref_functions.asp)\n",
        "\n",
        "Las funciones en Python generalmente tienen parámetros y realizan operaciones sobre ellos. Muchas veces, las funciones retornan un valor al programa que fue interrumpido cuando se invocaron, el cual puede ser utilizado posteriormente de la siguiente forma:"
      ]
    },
    {
      "cell_type": "code",
      "metadata": {
        "id": "TygjdRlHU9pQ"
      },
      "source": [
        "# ejemplo de funciones incorporadas de Python\n",
        "\n",
        "def triplicar(n):\n",
        "    '''Triplica el valor de un número'''\n",
        "    return n*3\n",
        "\n",
        "def esPar(n):\n",
        "  '''Identifica números pares'''\n",
        "  y = True\n",
        "  if n%2!=0:\n",
        "    y = False\n",
        "  return y\n",
        "\n",
        "numeros =list(range(1,10))\n",
        "\n",
        "print(f\"Lista de números construida con la función range: {numeros}\")\n",
        "\n",
        "pares= list(filter(esPar, numeros))\n",
        "\n",
        "y = list(map(triplicar, numeros))\n",
        "\n",
        "print(f\"Tamaño de la lista numeros: {len(numeros)}\")\n",
        "\n",
        "print(f\"Valor mínimo de la lista numeros: {min(numeros)}\")\n",
        "\n",
        "print(f\"Valor máximo de la lista numeros: {max(numeros)}\")\n",
        "\n",
        "print(f\"Lista de números pares extraída usando la función filter: {pares}\")\n",
        "\n",
        "print(f\"Lista de números triplicados utilizando la función map: {y}\")"
      ],
      "execution_count": null,
      "outputs": []
    },
    {
      "cell_type": "markdown",
      "metadata": {
        "id": "A_qw0mOsn4Wk"
      },
      "source": [
        "## Librerías\n",
        "\n",
        "Existen librerías que han sido creadas para Python. Contienen las definiciones e instrucciones para funciones específicas que no son utilizadas en todos los casos. Las incluimos en nuestro código con la instrucción *import*, seguida del nombre de la librería. Algunos ejemplos comunes:\n",
        "\n",
        "* **math:** incluye una gran variedad de funciones matemáticas como seno, coseno, raiz cuadrada, entre muchas otras.\n",
        "* **datetime:** incluye los tipos de datos y funciones necesarias para tratar fechas dentro de Python.\n",
        "* **random:** incluye las funciones necesarias para generar números aleatorios dentro de Python.\n",
        "* **openpyxl:** incluye los tipos de datos y funciones necesarias para manipular hojas de calculo de Excel.\n",
        "\n",
        "Ejemplos de algunas funciones de las librerías **random** y **math**\n",
        "* <b>random.choice()</b>: Recibe una lista de elementos, selecciona uno al azar.\n",
        "* <b>random.randrange()</b>: A partir de un inicio y fin, selecciona un entero aleatorio en ese rango\n",
        "* <b>math.sqrt()</b>: Calcula la raíz cuadrada de un elemento.\n",
        "\n",
        "\n",
        "A continuación, se presentan las referencias oficiales de los módulos de datetime, math, random, openpyxl:\n",
        "\n",
        "* Random:  https://docs.python.org/3/library/random.html#module-random\n",
        "* Math: https://docs.python.org/3/library/math.html\n",
        "* Date y Datetime: https://docs.python.org/3/whatsnew/3.2.html#datetime-and-time\n",
        "* Openpyxl: https://openpyxl.readthedocs.org/en/latest/index.html\n",
        "\n",
        "Cuando se necesita realizar algún cálculo es útil verificar en esta documentación si ya existe una función propia de Python que lo realice por nosotros. En ocasiones también podremos encontrarnos con *operadores*, que nos facilitan dichos cálculos. Un ejemplo es común es el operador \"in\", el cual nos dice si un elemento está o no en una lista."
      ]
    },
    {
      "cell_type": "code",
      "metadata": {
        "id": "CnkJoVNTn4Wk"
      },
      "source": [
        "# la siguiente línea activa el tutor magic para el ejemplo específico\n",
        "#%%tutor --lang python3 -s\n",
        "\n",
        "# ---- EJEMPLO CARTA DE AMOR LOCO -------\n",
        "import random as rnd\n",
        "\n",
        "# Funcion que devuelve una palabra aleatoria de una lista de palabras\n",
        "def seleccionar_palabra(palabras):\n",
        "    '''Seleccionar las palabras a incluir'''\n",
        "    palabra_a_seleccionar = rnd.randrange(0,len(palabras))\n",
        "    return palabras[palabra_a_seleccionar]\n",
        "\n",
        "def armar_carta(numero_palabras):\n",
        "    '''Establecer la longitud de la carta'''\n",
        "    carta = ''\n",
        "    for i in range(0,numero_palabras):\n",
        "        carta += seleccionar_palabra(lista_palabras) + ' '\n",
        "    return carta\n",
        "\n",
        "# Codigo principal\n",
        "lista_palabras = ['de', 'a', 'o', 'hola', 'amor', 'te', 'amo', 'salir', 'aniversario', 'feliz']\n",
        "print(armar_carta(5))"
      ],
      "execution_count": null,
      "outputs": []
    },
    {
      "cell_type": "markdown",
      "metadata": {
        "id": "lxZIOnUQn4Wk"
      },
      "source": [
        "Evidencie que en el ejemplo anterior se usaron:\n",
        "* Librerias:\n",
        "    * random\n",
        "* Funciones propias:\n",
        "    * len\n",
        "    * range\n",
        "    * print\n",
        "* Funciones del usuario:\n",
        "    * seleccionar_palabra\n",
        "    * armar_carta"
      ]
    },
    {
      "cell_type": "markdown",
      "metadata": {
        "id": "AJq_clpSnsr9"
      },
      "source": [
        "En el ejemplo anterior, la condición recursiva sigue siendo la misma. En este caso, lo que retorna la función es una lista, en la cual se han modificado todos los elementos de L al sumarles un valor N (Nótese que sumarN() retorna una lista nueva; la lista original se preserva).\n",
        "\n",
        "Se puede observar cómo se realiza una operación sobre la cabeza de la lista (sumarle N) y luego se concatena este resultado con la lista que generará aplicar sumarN() al resto de los elementos de la lista. Para operaciones simples, puede resultar trivial resolver el problema de forma iterativa. Sin embargo, a la hora de realizar operaciones complejas (tal como ordenar una lista) puede resultar más fácil de comprender la estructura recursiva."
      ]
    },
    {
      "cell_type": "markdown",
      "metadata": {
        "id": "sSt6oi23nsri"
      },
      "source": [
        "## Recursividad\n",
        "\n",
        "Python tiene la capacidad de invocar funciones dentro de otra función. Cuando una función se llama a sí misma, se presenta un caso particular conocido como función recursiva.\n",
        "\n",
        "Normalmente, la recursividad (la idea de definir un concepto por medio de ese mismo concepto) se encuentra en conceptos matemáticos. Por ejemplo en el caso del factorial:"
      ]
    },
    {
      "cell_type": "code",
      "metadata": {
        "id": "UyL1CPeonsrj"
      },
      "source": [
        "# la siguiente línea activa el tutor magic para el ejemplo específico\n",
        "%%tutor --lang python3 -s\n",
        "\n",
        "def factorial(N):\n",
        "  '''Calcular el factorial de un número entero'''\n",
        "  return N * factorial(N-1)\n",
        "\n",
        "print(factorial(4))"
      ],
      "execution_count": null,
      "outputs": []
    },
    {
      "cell_type": "markdown",
      "metadata": {
        "id": "OAi6zCbFnsrr"
      },
      "source": [
        "Al intentar ejecutar el código anterior, se presenta un error, ya que ese código genera un ciclo infinito. Esto ocurre ya que la función se llama a sí misma constantemente, y nunca se detiene.\n",
        "\n",
        "Es por esto que toda función recursiva debe tener tanto una <b>condición recursiva</b> como al menos una <b>condición de parada</b>. Las condiciones recursivas son los casos generales; todo momento en el que la función puede (¡y debe!) llamarse a sí misma para proceder con la ejecución del código. Las condiciones de parada, por otra parte, son aquellas condiciones cuando la función debe realizar una operación específica en lugar de invocarse a sí misma nuevamente.\n",
        "\n",
        "A continuación se presenta la función factorial redefinida:"
      ]
    },
    {
      "cell_type": "code",
      "metadata": {
        "id": "sJfooGeHnsr3"
      },
      "source": [
        "def factorialIterativo(N):\n",
        "    '''Calcular el factorial de forma iterativa'''\n",
        "    #Los casos base se declaran explicitamente, aún cuando se resuelve el problema de forma iterativa.\n",
        "    if N < 0:\n",
        "        return -1\n",
        "    elif N == 0:\n",
        "        return 1\n",
        "    else:\n",
        "        # El acumualador se inicializa en 1 porque se va a utilizar en una multiplicación\n",
        "        acumulador = 1\n",
        "        while N > 0:\n",
        "            acumulador = acumulador*N\n",
        "            N = N - 1\n",
        "        return acumulador\n",
        "\n",
        "print(factorialIterativo(4))"
      ],
      "execution_count": null,
      "outputs": []
    },
    {
      "cell_type": "code",
      "metadata": {
        "id": "YlRjce5Ensrs"
      },
      "source": [
        "def factorialCorregido(N):\n",
        "    '''Calcular factorial de un número entero de forma recursiva'''\n",
        "    #Esta es la condición recursiva; siempre que N sea mayor a 1, factorialCorregido() será invocada nuevamente.\n",
        "    if N > 1:\n",
        "        return N * factorialCorregido(N-1)\n",
        "\n",
        "    #Esta es la condición de parada; cuando N sea menor o igual a 1 simplemente retorna N, sin invocar a factorialCorregido().\n",
        "    else:\n",
        "        return N\n",
        "\n",
        "print (factorialCorregido(4))"
      ],
      "execution_count": null,
      "outputs": []
    },
    {
      "cell_type": "markdown",
      "metadata": {
        "id": "ZKMFC1yVnsrv"
      },
      "source": [
        "Ahora, el factorial tiene unas características: no está definido para numeros que no sean enteros positivos y particularmente, factorial(0) está definido como 1. Esto se conoce como un <b>caso base</b>. No todas las funciones recursivas tienen casos base, pero muchas los tienen. Es importante especificarlos explicitamente dentro del cuerpo de la función."
      ]
    },
    {
      "cell_type": "code",
      "metadata": {
        "id": "Omh6UwB8nsrw"
      },
      "source": [
        "# la siguiente línea activa el tutor magic para el ejemplo específico\n",
        "%%tutor --lang python3 -s\n",
        "\n",
        "def factorialMejorado(N):\n",
        "    '''Forma alterna de calcular el factorial de un número entero'''\n",
        "    #Esto es un caso base: los numeros negativos retornan -1 para indicar un error.\n",
        "    if N < 0:\n",
        "        return -1\n",
        "    #Ahora biene el caso base es N = 0\n",
        "    elif N == 0:\n",
        "        return 1\n",
        "    #Esta es la condición recursiva; para todo N mayor o igual a 1.\n",
        "    else:\n",
        "        return N * factorialMejorado(N-1)\n",
        "\n",
        "print(factorialMejorado(6))"
      ],
      "execution_count": null,
      "outputs": []
    },
    {
      "cell_type": "markdown",
      "metadata": {
        "id": "WEYjQN68nsry"
      },
      "source": [
        "También existen casos donde la recursividad puede ser indirecta:"
      ]
    },
    {
      "cell_type": "code",
      "metadata": {
        "id": "XHUGlkXBnsrz"
      },
      "source": [
        "def f(X):\n",
        "    '''Ejemplo de recursividad indirecta'''\n",
        "    if X > 0:\n",
        "        return g(X- X*2/3)\n",
        "    else:\n",
        "        return X\n",
        "\n",
        "def g(X):\n",
        "    '''Ejemplo de recursividad indirecta'''\n",
        "    if X % 2 == 0:\n",
        "        return f(X - X/2)\n",
        "    else:\n",
        "        return f(X-1)\n",
        "\n",
        "print(f(14))"
      ],
      "execution_count": null,
      "outputs": []
    },
    {
      "cell_type": "markdown",
      "metadata": {
        "id": "uUk9avmbnsr3"
      },
      "source": [
        "En este caso, se observa como f() invoca a g(), quien a su vez invoca a f() nuevamente. Para que estas dos funciones se ejecuten correctamente, es necesario que exista una condición de parada confiable: el valor de X, eventualmente, será negativo. Nótese que no es problema que g() siempre invoque a f(), siempre y cuando f() tenga una condición de parada alcanzable dentro de su código.\n",
        "\n",
        "No se debe utilizar la recursividad si existe una solución iterativa (ciclos <i>for</i> y <i>while</i>) más simple. Esto debido a que la carga sobre la memoria es mucho mayor.\n",
        "\n",
        "Como dato curioso, todo proceso iterativo puede realizarse recursivamente, pero no todo proceso recursivo puede realizarse iterativamente. A modo de ejemplo, se presenta una forma de escribir la función factorial de forma iterativa:"
      ]
    },
    {
      "cell_type": "markdown",
      "metadata": {
        "id": "okUyZzmznsr5"
      },
      "source": [
        "Al convertir una solución iterativa en una recursiva, generalmente conviene pensar que la condición del \"while\" es la condición recursiva, y que en el momento en que esta deja de ser verdad se convierte en una condición de parada. Nótese que aunque el valor de N cambia, solo se invoca factorialIterativo() una vez; todo lo demás ocurre dentro del ciclo while.\n",
        "\n",
        "Sin embargo, utilizar funciones recursivas puede simplificar la interpretación del código y facilitar su escritura. Esto se evidencia a la hora de manipular estructuras similares a listas:"
      ]
    },
    {
      "cell_type": "code",
      "metadata": {
        "id": "KljBa_IKnsr6"
      },
      "source": [
        "def suma(L):\n",
        "    '''Función que suma de manera recursiva los elementos de una lista'''\n",
        "    if(len(L) > 0):\n",
        "        return L[0] + suma(L[1:])\n",
        "    else:\n",
        "        return 0\n",
        "\n",
        "print(suma([1,2,4]))"
      ],
      "execution_count": null,
      "outputs": []
    },
    {
      "cell_type": "markdown",
      "metadata": {
        "id": "jVholirpnsr8"
      },
      "source": [
        "En el ejemplo anterior se presenta la suma de todos los elementos que se encuentran en una lista de forma recursiva. Para hacerlo, se verifica que la lista tenga elementos y, posteriormente, se suma el valor de la <b>\"cabeza\"</b> (el primer elemento de la lista) con el resultado de aplicar suma() sobre la <b>\"cola\"</b> de la lista (la cola son todos los otros elementos de la lista original).\n",
        "\n",
        "En otras palabras, es posible recorrer recursivamente una lista al realizar una operación de algún tipo sobre su cabeza e invocar la función recursiva sobre los demás elementos de esta. <b>En estos casos, la condición de parada suele ser el encontrarse con una lista vacía. </b>\n",
        "\n",
        "<i>Nota: Formalmente, la cabeza de una lista es una sublista que únicamente contiene el primer elemento de la lista original y la cola es una sublista que contiene todos los demás elementos. Esto para poder decir que \"una lista está compuesta por una lista que sólo tiene un elemento y otra lista que contiene los demás. Cualquiera de estas dos listas puede estar vacía.\" </i>"
      ]
    },
    {
      "cell_type": "markdown",
      "metadata": {
        "id": "WqwmlRdPqBeN"
      },
      "source": [
        "## Iteración vs. recursividad"
      ]
    },
    {
      "cell_type": "code",
      "metadata": {
        "id": "j2ZIV8JUnsr8"
      },
      "source": [
        "X = [8, 7, 3]\n",
        "\n",
        "#Solución iterativa para aumentar el valor de todos los elementos de una lista en N\n",
        "def sumarNIterativo(L,N):\n",
        "    '''incrementar los valores de una lista de forma iterativa'''\n",
        "    aux = []\n",
        "    for i in range(len(L)):\n",
        "        aux = aux + [L[i] + N]\n",
        "    return aux\n",
        "\n",
        "print(sumarNIterativo(X,-5))\n",
        "\n",
        "\n",
        "#Solución recursiva.\n",
        "def sumarN(L,N):\n",
        "    ''' incrementar los valores de una lista de forma recursiva'''\n",
        "    if(len(L) > 0):\n",
        "        return ([L[0] + N] + sumarN(L[1:], N))\n",
        "    else:\n",
        "        return L\n",
        "\n",
        "print(sumarN(X, 4))"
      ],
      "execution_count": null,
      "outputs": []
    },
    {
      "cell_type": "markdown",
      "source": [
        "#Ejemplo práctico\n",
        "\n",
        "###Filtro de estudiantes aprobados\n",
        "\n",
        "Imagina que tienes una lista de estudiantes con sus notas, y necesitas una función que:\n",
        "\n",
        "- Reciba una lista de tuplas con nombre y nota.\n",
        "- Reciba el mínimo para aprobar (por ejemplo, 60).\n",
        "- Valide los datos.\n",
        "- Devuelva una lista con los nombres de los que aprobaron."
      ],
      "metadata": {
        "id": "clOsKG-1kaY0"
      }
    },
    {
      "cell_type": "code",
      "source": [
        "grupo = [\n",
        "    (\"Ana\", 85),\n",
        "    (\"Luis\", 58),\n",
        "    (\"Carla\", 92),\n",
        "    (\"Tomás\", 47)\n",
        "]"
      ],
      "metadata": {
        "id": "j8JaJjAakfhs"
      },
      "execution_count": null,
      "outputs": []
    },
    {
      "cell_type": "markdown",
      "source": [
        "#Actividad\n",
        "\n",
        "¡Realiza tu propio ***range()*** !\n",
        "- Ten en cuenta los argumentos por defecto y el uso de if, for y while\n",
        "- Las validaciones o ordenamiento de datos deben hacerse en funciones a parte y luego juntarlas en el programa principal\n",
        "\n",
        "Verifica que el resultado de estas funciones no generen un error que paralise el sistema:\n",
        "\n",
        "- miRango(10)\n",
        "- miRango(1, 21)\n",
        "- miRango(10, 5)\n",
        "- miRango(2, 20, 7)\n",
        "- miRango(2, 20, 0)\n",
        "- miRango(40, 0, -2)\n",
        "\n",
        "**Resultado esperado:**\n",
        "\n",
        "[0, 1, 2, 3, 4, 5, 6, 7, 8, 9]\n",
        "\n",
        "[1, 2, 3, 4, 5, 6, 7, 8, 9, 10, 11, 12, 13, 14, 15, 16, 17, 18, 19, 20]\n",
        "\n",
        "[ ]\n",
        "\n",
        "[2, 9, 16]\n",
        "\n",
        "[ ]\n",
        "\n",
        "[40, 38, 36, 34, 32, 30, 28, 26, 24, 22, 20, 18, 16, 14, 12, 10, 8, 6, 4, 2]"
      ],
      "metadata": {
        "id": "cnTqRSr7GhRA"
      }
    },
    {
      "cell_type": "markdown",
      "source": [
        "##Solución"
      ],
      "metadata": {
        "id": "syJSiUnHXIjg"
      }
    },
    {
      "cell_type": "code",
      "source": [
        "# Define la función que recibe el valor del paso y valida que sea diferente de 0\n",
        "def valPaso(paso):\n",
        "    if paso == 0:                                       # Si el paso es igual a cero...\n",
        "        return False, \"Error: el paso no puede ser 0\"   # Devuelve False y un mensaje de error\n",
        "    return True, None                                   # Si el paso es válido, devuelve True y ningún mensaje\n",
        "\n",
        "# Define la función con los tres parámetros para organizarlos\n",
        "def orgArgs(inicio, fin, paso):\n",
        "    if fin is None:                            # Si solo se pasó un argumento a la función principal...\n",
        "        fin = inicio                           # El fin será ese número\n",
        "        inicio = 0                             # Y el inicio será 0 (como range(5) == range(0, 5, 1))\n",
        "    return inicio, fin, paso                   # Devuelve los valores ya ajustados\n",
        "\n",
        "# Define la función que construye la lista final\n",
        "def genRange(inicio, fin, paso):\n",
        "    resultado = []                             # Crea una lista vacía para guardar los valores\n",
        "\n",
        "    if paso > 0:                               # Si el paso es positivo...\n",
        "        while inicio < fin:                    # Mientras el inicio sea menor que el fin...\n",
        "            resultado.append(inicio)           # Agrega el valor actual a la lista\n",
        "            inicio += paso                     # Avanza el inicio sumándole el paso\n",
        "\n",
        "    else:                                      # Si el paso es negativo...\n",
        "        while inicio > fin:                    # Mientras el inicio sea mayor que el fin...\n",
        "            resultado.append(inicio)           # Agrega el valor actual a la lista\n",
        "            inicio += paso                     # Avanza restando (paso negativo)\n",
        "\n",
        "    return resultado                           # Devuelve la lista generada\n",
        "\n",
        "# Función principal que imita a range\n",
        "def myRange(inicio, fin=None, paso=1):\n",
        "    valid, message = valPaso(paso)        # Llama a la función de validación de paso\n",
        "\n",
        "    if not valid:                              # Si el paso no es válido...\n",
        "        return message                             # Devuelve el mensaje de error (como string)\n",
        "\n",
        "    inicio, fin, paso = orgArgs(inicio, fin, paso)  # Ajusta los valores\n",
        "\n",
        "    return genRange(inicio, fin, paso)        # Llama a la función que crea la lista final\n",
        "\n",
        "\n",
        "print(myRange(10))\n",
        "print(myRange(1, 21))\n",
        "print(myRange(10, 5))\n",
        "print(myRange(2, 20, 7))\n",
        "print(myRange(2, 20, 0))\n",
        "print(myRange(40, 0, -2))\n",
        "\n",
        "\n"
      ],
      "metadata": {
        "colab": {
          "base_uri": "https://localhost:8080/"
        },
        "id": "R_pau54-XSxq",
        "outputId": "e51677e4-2532-412e-99a7-a8302a2060e0"
      },
      "execution_count": null,
      "outputs": [
        {
          "output_type": "stream",
          "name": "stdout",
          "text": [
            "[0, 1, 2, 3, 4, 5, 6, 7, 8, 9]\n",
            "[1, 2, 3, 4, 5, 6, 7, 8, 9, 10, 11, 12, 13, 14, 15, 16, 17, 18, 19, 20]\n",
            "[]\n",
            "[2, 9, 16]\n",
            "Error: el paso no puede ser 0\n",
            "[40, 38, 36, 34, 32, 30, 28, 26, 24, 22, 20, 18, 16, 14, 12, 10, 8, 6, 4, 2]\n"
          ]
        }
      ]
    },
    {
      "cell_type": "code",
      "source": [
        "def myRange(inicio, fin=None, paso=1):\n",
        "    if paso == 0:\n",
        "        return \"Error: el paso no puede ser 0\"\n",
        "\n",
        "    if fin is None:\n",
        "        fin = inicio\n",
        "        inicio = 0\n",
        "\n",
        "    resultado = []\n",
        "\n",
        "    if paso > 0:\n",
        "        while inicio < fin:\n",
        "            resultado.append(inicio)\n",
        "            inicio += paso\n",
        "    else:\n",
        "        while inicio > fin:\n",
        "            resultado.append(inicio)\n",
        "            inicio += paso\n",
        "\n",
        "    return resultado\n",
        "\n",
        "print(myRange(10))\n",
        "print(myRange(1, 21))\n",
        "print(myRange(10, 5))\n",
        "print(myRange(2, 20, 7))\n",
        "print(myRange(2, 20, 0))\n",
        "print(myRange(40, 0, -2))\n"
      ],
      "metadata": {
        "id": "vMb1RX5dj7-4",
        "outputId": "c32e2e1f-772e-458a-b496-8f06eb72e4b8",
        "colab": {
          "base_uri": "https://localhost:8080/"
        }
      },
      "execution_count": 2,
      "outputs": [
        {
          "output_type": "stream",
          "name": "stdout",
          "text": [
            "[0, 1, 2, 3, 4, 5, 6, 7, 8, 9]\n",
            "[1, 2, 3, 4, 5, 6, 7, 8, 9, 10, 11, 12, 13, 14, 15, 16, 17, 18, 19, 20]\n",
            "[]\n",
            "[2, 9, 16]\n",
            "Error: el paso no puede ser 0\n",
            "[40, 38, 36, 34, 32, 30, 28, 26, 24, 22, 20, 18, 16, 14, 12, 10, 8, 6, 4, 2]\n"
          ]
        }
      ]
    }
  ]
}